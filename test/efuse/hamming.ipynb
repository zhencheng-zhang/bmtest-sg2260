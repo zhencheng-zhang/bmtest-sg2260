{
 "cells": [
  {
   "cell_type": "code",
   "execution_count": 52,
   "metadata": {},
   "outputs": [],
   "source": [
    "origin_data='10'*13\n",
    "reverse_data=origin_data[::-1]\n",
    "data=list(map(int, reverse_data))"
   ]
  },
  {
   "cell_type": "code",
   "execution_count": 53,
   "metadata": {},
   "outputs": [],
   "source": [
    "H1 = data[0]^data[1]^data[3]^data[4]^data[6]^data[8]^data[10]^data[11]^data[13]^data[15]^data[17]^data[19]^data[21]^data[23]^data[25]\n",
    "H2 = data[0]^data[2]^data[3]^data[5]^data[6]^data[9]^data[10]^data[12]^data[13]^data[16]^data[17]^data[20]^data[21]^data[24]^data[25]\n",
    "H3 = data[1]^data[2]^data[3]^data[7]^data[8]^data[9]^data[10]^data[14]^data[15]^data[16]^data[17]^data[22]^data[23]^data[24]^data[25]\n",
    "H4 = data[4]^data[5]^data[6]^data[7]^data[8]^data[9]^data[10]^data[18]^data[19]^data[20]^data[21]^data[22]^data[23]^data[24]^data[25]\n",
    "H5 = data[11]^data[12]^data[13]^data[14]^data[15]^data[16]^data[17]^data[18]^data[19]^data[20]^data[21]^data[22]^data[23]^data[24]^data[25]\n"
   ]
  },
  {
   "cell_type": "code",
   "execution_count": 57,
   "metadata": {},
   "outputs": [],
   "source": [
    "hamming_code_r = str(H1) + str(H2) + reverse_data[0:1] + str(H3) + reverse_data[1:4] + str(H4) + reverse_data[4:11] + str(H5) + reverse_data[11:26]\n",
    "hamming_code = hamming_code_r[::-1]\n"
   ]
  },
  {
   "cell_type": "code",
   "execution_count": 58,
   "metadata": {},
   "outputs": [
    {
     "data": {
      "text/plain": [
       "'1010101010101010010101011010010'"
      ]
     },
     "execution_count": 58,
     "metadata": {},
     "output_type": "execute_result"
    }
   ],
   "source": [
    "hamming_code"
   ]
  },
  {
   "cell_type": "code",
   "execution_count": 60,
   "metadata": {},
   "outputs": [
    {
     "data": {
      "text/plain": [
       "1.31072"
      ]
     },
     "execution_count": 60,
     "metadata": {},
     "output_type": "execute_result"
    }
   ],
   "source": []
  }
 ],
 "metadata": {
  "kernelspec": {
   "display_name": "Python 3",
   "language": "python",
   "name": "python3"
  },
  "language_info": {
   "codemirror_mode": {
    "name": "ipython",
    "version": 3
   },
   "file_extension": ".py",
   "mimetype": "text/x-python",
   "name": "python",
   "nbconvert_exporter": "python",
   "pygments_lexer": "ipython3",
   "version": "3.10.12"
  },
  "orig_nbformat": 4
 },
 "nbformat": 4,
 "nbformat_minor": 2
}
